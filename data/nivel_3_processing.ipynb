{
 "cells": [
  {
   "cell_type": "markdown",
   "id": "30faa187",
   "metadata": {},
   "source": [
    "# Procesamiento de Archivos JSON - Nivel 3"
   ]
  },
  {
   "cell_type": "code",
   "execution_count": 1,
   "id": "b5c8f340",
   "metadata": {},
   "outputs": [],
   "source": [
    "# Importar las bibliotecas necesarias\n",
    "import os\n",
    "import json\n",
    "import pandas as pd"
   ]
  },
  {
   "cell_type": "code",
   "execution_count": 2,
   "id": "e0699e11",
   "metadata": {},
   "outputs": [],
   "source": [
    "# Definir la ruta del directorio de nivel 3\n",
    "nivel_3_path = \"c:/Users/KEVIN/Desktop/Semestre 2025-2/Mineria de datos/scrap/3-Neutro\""
   ]
  },
  {
   "cell_type": "code",
   "execution_count": 3,
   "id": "40aca1f0",
   "metadata": {},
   "outputs": [],
   "source": [
    "# Inicializar una lista para almacenar los datos\n",
    "publications = []"
   ]
  },
  {
   "cell_type": "code",
   "execution_count": 4,
   "id": "afce987d",
   "metadata": {},
   "outputs": [],
   "source": [
    "# Recorrer los archivos JSON en el directorio de nivel 3\n",
    "for file_name in os.listdir(nivel_3_path):\n",
    "    if file_name.endswith('.json'):\n",
    "        file_path = os.path.join(nivel_3_path, file_name)\n",
    "        \n",
    "        # Leer el archivo JSON\n",
    "        with open(file_path, 'r', encoding='utf-8') as file:\n",
    "            data = json.load(file)\n",
    "            \n",
    "            # Extraer el campo `full_text` si está disponible\n",
    "            for entry in data.get('data', {}).get('user', {}).get('result', {}).get('timeline', {}).get('timeline', {}).get('instructions', []):\n",
    "                for item in entry.get('entries', []):\n",
    "                    content = item.get('content', {}).get('itemContent', {}).get('tweet_results', {}).get('result', {}).get('legacy', {})\n",
    "                    full_text = content.get('full_text')\n",
    "                    if full_text:\n",
    "                        publications.append({\"publication\": full_text, \"label\": 3})"
   ]
  },
  {
   "cell_type": "code",
   "execution_count": 5,
   "id": "6b638250",
   "metadata": {},
   "outputs": [],
   "source": [
    "# Crear un DataFrame de pandas\n",
    "publications_df = pd.DataFrame(publications)"
   ]
  },
  {
   "cell_type": "code",
   "execution_count": 7,
   "id": "5e9398cf",
   "metadata": {},
   "outputs": [
    {
     "name": "stdout",
     "output_type": "stream",
     "text": [
      "Archivo CSV exportado a: c:/Users/KEVIN/Desktop/Semestre 2025-2/Mineria de datos/scrap/nivel_3_publications.csv\n"
     ]
    }
   ],
   "source": [
    "# Exportar el DataFrame a un archivo CSV\n",
    "output_csv_path = \"c:/Users/KEVIN/Desktop/Semestre 2025-2/Mineria de datos/scrap/nivel_3_publications.csv\"\n",
    "publications_df.to_csv(output_csv_path, index=False, encoding='utf-8')\n",
    "print(f\"Archivo CSV exportado a: {output_csv_path}\")"
   ]
  },
  {
   "cell_type": "code",
   "execution_count": 10,
   "id": "1fd7c635",
   "metadata": {},
   "outputs": [
    {
     "name": "stdout",
     "output_type": "stream",
     "text": [
      "Archivo CSV limpio exportado a: c:/Users/KEVIN/Desktop/Semestre 2025-2/Mineria de datos/scrap/nivel_3_publications_cleaned.csv\n"
     ]
    }
   ],
   "source": [
    "# Limpiar el archivo CSV generado para el nivel 3\n",
    "import re\n",
    "\n",
    "# Leer el archivo CSV\n",
    "csv_path = \"c:/Users/KEVIN/Desktop/Semestre 2025-2/Mineria de datos/scrap/nivel_3_publications.csv\"\n",
    "df = pd.read_csv(csv_path)\n",
    "\n",
    "# Función para limpiar el texto\n",
    "def clean_text(text):\n",
    "    # Eliminar #, @, \", urls, links, saltos de línea, emoticones y símbolos\n",
    "    text = re.sub(r'[@#]\\w+', '', text)\n",
    "    text = re.sub(r'http\\S+|www\\.\\S+', '', text)\n",
    "    text = re.sub(r'[\\n\\r]', ' ', text)\n",
    "    text = re.sub(r'[\"\\\\]', '', text)\n",
    "    text = re.sub(r'[\\U0001F600-\\U0001F64F\\U0001F300-\\U0001F5FF\\U0001F680-\\U0001F6FF\\U0001F700-\\U0001F77F]', '', text, flags=re.UNICODE)\n",
    "    text = re.sub(r\"[!\\\"#$%&'()*+,-./:;<=>?@[\\\\]^_`{|}~]\", '', text)\n",
    "    return text.strip()\n",
    "\n",
    "# Aplicar la limpieza a la columna 'publication'\n",
    "df['publication'] = df['publication'].apply(clean_text)\n",
    "\n",
    "# Guardar el archivo limpio\n",
    "cleaned_csv_path = \"c:/Users/KEVIN/Desktop/Semestre 2025-2/Mineria de datos/scrap/nivel_3_publications_cleaned.csv\"\n",
    "df.to_csv(cleaned_csv_path, index=False, encoding='utf-8')\n",
    "print(f\"Archivo CSV limpio exportado a: {cleaned_csv_path}\")"
   ]
  }
 ],
 "metadata": {
  "kernelspec": {
   "display_name": "Python 3",
   "language": "python",
   "name": "python3"
  },
  "language_info": {
   "codemirror_mode": {
    "name": "ipython",
    "version": 3
   },
   "file_extension": ".py",
   "mimetype": "text/x-python",
   "name": "python",
   "nbconvert_exporter": "python",
   "pygments_lexer": "ipython3",
   "version": "3.12.3"
  }
 },
 "nbformat": 4,
 "nbformat_minor": 5
}
