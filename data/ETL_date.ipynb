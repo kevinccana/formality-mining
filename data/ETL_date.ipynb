{
 "cells": [
  {
   "cell_type": "markdown",
   "id": "3a5b7b84",
   "metadata": {},
   "source": [
    "# ETL\n",
    "Este notebook unifica los procesos ETL de los datasets `db_AGP_2019_sucesos`, `ComentariosInstagram`, `corpuscomentarios` y `train.csv` de `comentarios_depresivos`."
   ]
  },
  {
   "cell_type": "code",
   "execution_count": 1,
   "id": "9ffc8121",
   "metadata": {},
   "outputs": [],
   "source": [
    "# Importar Librerías Necesarias\n",
    "import pandas as pd\n",
    "import re"
   ]
  },
  {
   "cell_type": "markdown",
   "id": "54c49575",
   "metadata": {},
   "source": [
    "# Para db_AGP_2019_sucesos"
   ]
  },
  {
   "cell_type": "code",
   "execution_count": 2,
   "id": "8c943c1c",
   "metadata": {},
   "outputs": [],
   "source": [
    "# Cargar y procesar db_AGP_2019_sucesos\n",
    "data1 = pd.read_csv('data/data/db_AGP_2019_sucesos.csv').head(6000)\n",
    "data1 = data1[['message']].copy()\n",
    "data1.rename(columns={'message': 'comentarios'}, inplace=True)\n",
    "data1['source'] = 'Twitter'\n",
    "data1['label'] = ''\n",
    "data1 = data1[~data1['comentarios'].str.contains(r'►|https://bit\\.ly', na=False)]"
   ]
  },
  {
   "cell_type": "markdown",
   "id": "75b88853",
   "metadata": {},
   "source": [
    "# Para ComentariosInstagram"
   ]
  },
  {
   "cell_type": "code",
   "execution_count": 3,
   "id": "2b4a3aa8",
   "metadata": {},
   "outputs": [],
   "source": [
    "# Cargar y procesar ComentariosInstagram\n",
    "data2 = pd.read_excel('data/data/ComentariosInstagram.xlsx').head(6000)\n",
    "data2 = data2[['Texto']].copy()\n",
    "data2.rename(columns={'Texto': 'comentarios'}, inplace=True)\n",
    "data2['source'] = 'Instagram'\n",
    "data2['label'] = ''"
   ]
  },
  {
   "cell_type": "markdown",
   "id": "db80ffeb",
   "metadata": {},
   "source": [
    "# Para corpuscomentarios"
   ]
  },
  {
   "cell_type": "code",
   "execution_count": 4,
   "id": "6a0b1508",
   "metadata": {},
   "outputs": [],
   "source": [
    "# Cargar y procesar corpuscomentarios\n",
    "data3 = pd.read_csv('data/data/corpuscomentarios.csv').head(6000)\n",
    "data3 = data3[['comentarioszz']].copy()\n",
    "data3.rename(columns={'comentarioszz': 'comentarios'}, inplace=True)\n",
    "data3['source'] = 'Youtube'\n",
    "data3['label'] = ''"
   ]
  },
  {
   "cell_type": "markdown",
   "id": "6da31447",
   "metadata": {},
   "source": [
    "# Para train.csv de comentarios_depresivos"
   ]
  },
  {
   "cell_type": "code",
   "execution_count": 5,
   "id": "d683b309",
   "metadata": {},
   "outputs": [],
   "source": [
    "# Cargar y procesar train.csv\n",
    "data4 = pd.read_csv('data/data/comentarios_depresivos/train.csv').head(6000)\n",
    "data4 = data4[['texto']].copy()\n",
    "data4.rename(columns={'texto': 'comentarios'}, inplace=True)\n",
    "data4['source'] = 'Reddit'\n",
    "data4['label'] = ''"
   ]
  },
  {
   "cell_type": "markdown",
   "id": "3d1c4355",
   "metadata": {},
   "source": [
    "# Unificar todos los DataFrames y exportar"
   ]
  },
  {
   "cell_type": "code",
   "execution_count": 7,
   "id": "a41917cb",
   "metadata": {},
   "outputs": [],
   "source": [
    "# Concatenar todos los DataFrames\n",
    "final_data = pd.concat([data1, data2, data3, data4], ignore_index=True)\n",
    "\n",
    "# Exportar el DataFrame unificado\n",
    "output_path = 'data/data/Dataset_train.csv'\n",
    "final_data.to_csv(output_path, index=False)"
   ]
  }
 ],
 "metadata": {
  "kernelspec": {
   "display_name": "Python 3",
   "language": "python",
   "name": "python3"
  },
  "language_info": {
   "codemirror_mode": {
    "name": "ipython",
    "version": 3
   },
   "file_extension": ".py",
   "mimetype": "text/x-python",
   "name": "python",
   "nbconvert_exporter": "python",
   "pygments_lexer": "ipython3",
   "version": "3.12.3"
  }
 },
 "nbformat": 4,
 "nbformat_minor": 5
}
