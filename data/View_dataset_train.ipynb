{
 "cells": [
  {
   "cell_type": "markdown",
   "id": "648034eb",
   "metadata": {},
   "source": [
    "# Exploración del Dataset Train\n",
    "En este notebook se realiza una exploración básica del dataset unificado para visualizar datos de cada fuente."
   ]
  },
  {
   "cell_type": "code",
   "execution_count": 1,
   "id": "dbc37a70",
   "metadata": {},
   "outputs": [],
   "source": [
    "# Importar Librerías Necesarias\n",
    "import pandas as pd"
   ]
  },
  {
   "cell_type": "markdown",
   "id": "6babae3e",
   "metadata": {},
   "source": [
    "# Cargar el Dataset Unificado"
   ]
  },
  {
   "cell_type": "code",
   "execution_count": 2,
   "id": "096cab7a",
   "metadata": {},
   "outputs": [
    {
     "data": {
      "text/html": [
       "<div>\n",
       "<style scoped>\n",
       "    .dataframe tbody tr th:only-of-type {\n",
       "        vertical-align: middle;\n",
       "    }\n",
       "\n",
       "    .dataframe tbody tr th {\n",
       "        vertical-align: top;\n",
       "    }\n",
       "\n",
       "    .dataframe thead th {\n",
       "        text-align: right;\n",
       "    }\n",
       "</style>\n",
       "<table border=\"1\" class=\"dataframe\">\n",
       "  <thead>\n",
       "    <tr style=\"text-align: right;\">\n",
       "      <th></th>\n",
       "      <th>comentarios</th>\n",
       "      <th>source</th>\n",
       "      <th>label</th>\n",
       "    </tr>\n",
       "  </thead>\n",
       "  <tbody>\n",
       "    <tr>\n",
       "      <th>0</th>\n",
       "      <td>Velorio del ex presidente Alan García en la Ca...</td>\n",
       "      <td>Twitter</td>\n",
       "      <td>NaN</td>\n",
       "    </tr>\n",
       "    <tr>\n",
       "      <th>1</th>\n",
       "      <td>Exequias del ex presidente Alan García en \"La ...</td>\n",
       "      <td>Twitter</td>\n",
       "      <td>NaN</td>\n",
       "    </tr>\n",
       "    <tr>\n",
       "      <th>2</th>\n",
       "      <td>Velorio del ex presidente Alan García en la Ca...</td>\n",
       "      <td>Twitter</td>\n",
       "      <td>NaN</td>\n",
       "    </tr>\n",
       "    <tr>\n",
       "      <th>3</th>\n",
       "      <td>Velorio del ex presidente Alan García en la Ca...</td>\n",
       "      <td>Twitter</td>\n",
       "      <td>NaN</td>\n",
       "    </tr>\n",
       "    <tr>\n",
       "      <th>4</th>\n",
       "      <td>Velorio del ex presidente Alan García en la Ca...</td>\n",
       "      <td>Twitter</td>\n",
       "      <td>NaN</td>\n",
       "    </tr>\n",
       "  </tbody>\n",
       "</table>\n",
       "</div>"
      ],
      "text/plain": [
       "                                         comentarios   source  label\n",
       "0  Velorio del ex presidente Alan García en la Ca...  Twitter    NaN\n",
       "1  Exequias del ex presidente Alan García en \"La ...  Twitter    NaN\n",
       "2  Velorio del ex presidente Alan García en la Ca...  Twitter    NaN\n",
       "3  Velorio del ex presidente Alan García en la Ca...  Twitter    NaN\n",
       "4  Velorio del ex presidente Alan García en la Ca...  Twitter    NaN"
      ]
     },
     "execution_count": 2,
     "metadata": {},
     "output_type": "execute_result"
    }
   ],
   "source": [
    "# Cargar el archivo unificado\n",
    "file_path = 'data/data/ETL_unificado.csv'\n",
    "data = pd.read_csv(file_path)\n",
    "\n",
    "# Mostrar las primeras filas del dataset\n",
    "data.head()"
   ]
  },
  {
   "cell_type": "markdown",
   "id": "7e38957c",
   "metadata": {},
   "source": [
    "# Visualizar Datos por Fuente"
   ]
  },
  {
   "cell_type": "code",
   "execution_count": 3,
   "id": "3b004807",
   "metadata": {},
   "outputs": [
    {
     "name": "stdout",
     "output_type": "stream",
     "text": [
      "Datos de la fuente: Twitter\n"
     ]
    },
    {
     "data": {
      "text/html": [
       "<div>\n",
       "<style scoped>\n",
       "    .dataframe tbody tr th:only-of-type {\n",
       "        vertical-align: middle;\n",
       "    }\n",
       "\n",
       "    .dataframe tbody tr th {\n",
       "        vertical-align: top;\n",
       "    }\n",
       "\n",
       "    .dataframe thead th {\n",
       "        text-align: right;\n",
       "    }\n",
       "</style>\n",
       "<table border=\"1\" class=\"dataframe\">\n",
       "  <thead>\n",
       "    <tr style=\"text-align: right;\">\n",
       "      <th></th>\n",
       "      <th>comentarios</th>\n",
       "      <th>source</th>\n",
       "      <th>label</th>\n",
       "    </tr>\n",
       "  </thead>\n",
       "  <tbody>\n",
       "    <tr>\n",
       "      <th>0</th>\n",
       "      <td>Velorio del ex presidente Alan García en la Ca...</td>\n",
       "      <td>Twitter</td>\n",
       "      <td>NaN</td>\n",
       "    </tr>\n",
       "    <tr>\n",
       "      <th>1</th>\n",
       "      <td>Exequias del ex presidente Alan García en \"La ...</td>\n",
       "      <td>Twitter</td>\n",
       "      <td>NaN</td>\n",
       "    </tr>\n",
       "    <tr>\n",
       "      <th>2</th>\n",
       "      <td>Velorio del ex presidente Alan García en la Ca...</td>\n",
       "      <td>Twitter</td>\n",
       "      <td>NaN</td>\n",
       "    </tr>\n",
       "    <tr>\n",
       "      <th>3</th>\n",
       "      <td>Velorio del ex presidente Alan García en la Ca...</td>\n",
       "      <td>Twitter</td>\n",
       "      <td>NaN</td>\n",
       "    </tr>\n",
       "    <tr>\n",
       "      <th>4</th>\n",
       "      <td>Velorio del ex presidente Alan García en la Ca...</td>\n",
       "      <td>Twitter</td>\n",
       "      <td>NaN</td>\n",
       "    </tr>\n",
       "  </tbody>\n",
       "</table>\n",
       "</div>"
      ],
      "text/plain": [
       "                                         comentarios   source  label\n",
       "0  Velorio del ex presidente Alan García en la Ca...  Twitter    NaN\n",
       "1  Exequias del ex presidente Alan García en \"La ...  Twitter    NaN\n",
       "2  Velorio del ex presidente Alan García en la Ca...  Twitter    NaN\n",
       "3  Velorio del ex presidente Alan García en la Ca...  Twitter    NaN\n",
       "4  Velorio del ex presidente Alan García en la Ca...  Twitter    NaN"
      ]
     },
     "metadata": {},
     "output_type": "display_data"
    },
    {
     "name": "stdout",
     "output_type": "stream",
     "text": [
      "Datos de la fuente: Instagram\n"
     ]
    },
    {
     "data": {
      "text/html": [
       "<div>\n",
       "<style scoped>\n",
       "    .dataframe tbody tr th:only-of-type {\n",
       "        vertical-align: middle;\n",
       "    }\n",
       "\n",
       "    .dataframe tbody tr th {\n",
       "        vertical-align: top;\n",
       "    }\n",
       "\n",
       "    .dataframe thead th {\n",
       "        text-align: right;\n",
       "    }\n",
       "</style>\n",
       "<table border=\"1\" class=\"dataframe\">\n",
       "  <thead>\n",
       "    <tr style=\"text-align: right;\">\n",
       "      <th></th>\n",
       "      <th>comentarios</th>\n",
       "      <th>source</th>\n",
       "      <th>label</th>\n",
       "    </tr>\n",
       "  </thead>\n",
       "  <tbody>\n",
       "    <tr>\n",
       "      <th>4747</th>\n",
       "      <td>@giomaeli muchas gracias 🙏🏻😊</td>\n",
       "      <td>Instagram</td>\n",
       "      <td>NaN</td>\n",
       "    </tr>\n",
       "    <tr>\n",
       "      <th>4748</th>\n",
       "      <td>@alexisjosueh ¡Felicitaciones por este gran tr...</td>\n",
       "      <td>Instagram</td>\n",
       "      <td>NaN</td>\n",
       "    </tr>\n",
       "    <tr>\n",
       "      <th>4749</th>\n",
       "      <td>@alexisjosueh felicidades, excelente trabajo🙌🏻</td>\n",
       "      <td>Instagram</td>\n",
       "      <td>NaN</td>\n",
       "    </tr>\n",
       "    <tr>\n",
       "      <th>4750</th>\n",
       "      <td>@alexisjosueh felicitaciones, las fotografías ...</td>\n",
       "      <td>Instagram</td>\n",
       "      <td>NaN</td>\n",
       "    </tr>\n",
       "    <tr>\n",
       "      <th>4751</th>\n",
       "      <td>Muchas gracias 🙏🏻♥️</td>\n",
       "      <td>Instagram</td>\n",
       "      <td>NaN</td>\n",
       "    </tr>\n",
       "  </tbody>\n",
       "</table>\n",
       "</div>"
      ],
      "text/plain": [
       "                                            comentarios     source  label\n",
       "4747                       @giomaeli muchas gracias 🙏🏻😊  Instagram    NaN\n",
       "4748  @alexisjosueh ¡Felicitaciones por este gran tr...  Instagram    NaN\n",
       "4749     @alexisjosueh felicidades, excelente trabajo🙌🏻  Instagram    NaN\n",
       "4750  @alexisjosueh felicitaciones, las fotografías ...  Instagram    NaN\n",
       "4751                                Muchas gracias 🙏🏻♥️  Instagram    NaN"
      ]
     },
     "metadata": {},
     "output_type": "display_data"
    },
    {
     "name": "stdout",
     "output_type": "stream",
     "text": [
      "Datos de la fuente: Youtube\n"
     ]
    },
    {
     "data": {
      "text/html": [
       "<div>\n",
       "<style scoped>\n",
       "    .dataframe tbody tr th:only-of-type {\n",
       "        vertical-align: middle;\n",
       "    }\n",
       "\n",
       "    .dataframe tbody tr th {\n",
       "        vertical-align: top;\n",
       "    }\n",
       "\n",
       "    .dataframe thead th {\n",
       "        text-align: right;\n",
       "    }\n",
       "</style>\n",
       "<table border=\"1\" class=\"dataframe\">\n",
       "  <thead>\n",
       "    <tr style=\"text-align: right;\">\n",
       "      <th></th>\n",
       "      <th>comentarios</th>\n",
       "      <th>source</th>\n",
       "      <th>label</th>\n",
       "    </tr>\n",
       "  </thead>\n",
       "  <tbody>\n",
       "    <tr>\n",
       "      <th>8006</th>\n",
       "      <td>ordenes video</td>\n",
       "      <td>Youtube</td>\n",
       "      <td>NaN</td>\n",
       "    </tr>\n",
       "    <tr>\n",
       "      <th>8007</th>\n",
       "      <td>bien explica metodo gauss podemos resolver si...</td>\n",
       "      <td>Youtube</td>\n",
       "      <td>NaN</td>\n",
       "    </tr>\n",
       "    <tr>\n",
       "      <th>8008</th>\n",
       "      <td>santo julioprofesor youtube santificado canal ...</td>\n",
       "      <td>Youtube</td>\n",
       "      <td>NaN</td>\n",
       "    </tr>\n",
       "    <tr>\n",
       "      <th>8009</th>\n",
       "      <td>bryan muchasgracias gentil mensaje alegra vide...</td>\n",
       "      <td>Youtube</td>\n",
       "      <td>NaN</td>\n",
       "    </tr>\n",
       "    <tr>\n",
       "      <th>8010</th>\n",
       "      <td>salvado agradecidos</td>\n",
       "      <td>Youtube</td>\n",
       "      <td>NaN</td>\n",
       "    </tr>\n",
       "  </tbody>\n",
       "</table>\n",
       "</div>"
      ],
      "text/plain": [
       "                                            comentarios   source  label\n",
       "8006                                      ordenes video  Youtube    NaN\n",
       "8007   bien explica metodo gauss podemos resolver si...  Youtube    NaN\n",
       "8008  santo julioprofesor youtube santificado canal ...  Youtube    NaN\n",
       "8009  bryan muchasgracias gentil mensaje alegra vide...  Youtube    NaN\n",
       "8010                               salvado agradecidos   Youtube    NaN"
      ]
     },
     "metadata": {},
     "output_type": "display_data"
    },
    {
     "name": "stdout",
     "output_type": "stream",
     "text": [
      "Datos de la fuente: Reddit\n"
     ]
    },
    {
     "data": {
      "text/html": [
       "<div>\n",
       "<style scoped>\n",
       "    .dataframe tbody tr th:only-of-type {\n",
       "        vertical-align: middle;\n",
       "    }\n",
       "\n",
       "    .dataframe tbody tr th {\n",
       "        vertical-align: top;\n",
       "    }\n",
       "\n",
       "    .dataframe thead th {\n",
       "        text-align: right;\n",
       "    }\n",
       "</style>\n",
       "<table border=\"1\" class=\"dataframe\">\n",
       "  <thead>\n",
       "    <tr style=\"text-align: right;\">\n",
       "      <th></th>\n",
       "      <th>comentarios</th>\n",
       "      <th>source</th>\n",
       "      <th>label</th>\n",
       "    </tr>\n",
       "  </thead>\n",
       "  <tbody>\n",
       "    <tr>\n",
       "      <th>14006</th>\n",
       "      <td>Adoptar Mepls</td>\n",
       "      <td>Reddit</td>\n",
       "      <td>NaN</td>\n",
       "    </tr>\n",
       "    <tr>\n",
       "      <th>14007</th>\n",
       "      <td>No encuentro ninguna alegría en la vida. 17 15...</td>\n",
       "      <td>Reddit</td>\n",
       "      <td>NaN</td>\n",
       "    </tr>\n",
       "    <tr>\n",
       "      <th>14008</th>\n",
       "      <td>Me siento un poco menos sadi publicado aquí ha...</td>\n",
       "      <td>Reddit</td>\n",
       "      <td>NaN</td>\n",
       "    </tr>\n",
       "    <tr>\n",
       "      <th>14009</th>\n",
       "      <td>¿Alguien me habla? Hola a todos.\\nNo diría que...</td>\n",
       "      <td>Reddit</td>\n",
       "      <td>NaN</td>\n",
       "    </tr>\n",
       "    <tr>\n",
       "      <th>14010</th>\n",
       "      <td>Preguntando a mi mente en línea, enero, he est...</td>\n",
       "      <td>Reddit</td>\n",
       "      <td>NaN</td>\n",
       "    </tr>\n",
       "  </tbody>\n",
       "</table>\n",
       "</div>"
      ],
      "text/plain": [
       "                                             comentarios  source  label\n",
       "14006                                      Adoptar Mepls  Reddit    NaN\n",
       "14007  No encuentro ninguna alegría en la vida. 17 15...  Reddit    NaN\n",
       "14008  Me siento un poco menos sadi publicado aquí ha...  Reddit    NaN\n",
       "14009  ¿Alguien me habla? Hola a todos.\\nNo diría que...  Reddit    NaN\n",
       "14010  Preguntando a mi mente en línea, enero, he est...  Reddit    NaN"
      ]
     },
     "metadata": {},
     "output_type": "display_data"
    }
   ],
   "source": [
    "# Filtrar y mostrar datos por fuente\n",
    "sources = data['source'].unique()\n",
    "for source in sources:\n",
    "    print(f\"Datos de la fuente: {source}\")\n",
    "    display(data[data['source'] == source].head())"
   ]
  },
  {
   "cell_type": "markdown",
   "id": "925301ea",
   "metadata": {},
   "source": [
    "# Conteo de Datos por Fuente"
   ]
  },
  {
   "cell_type": "code",
   "execution_count": 5,
   "id": "e43bd325",
   "metadata": {},
   "outputs": [
    {
     "name": "stdout",
     "output_type": "stream",
     "text": [
      "Conteo de registros por fuente:\n",
      "source\n",
      "Reddit       6000\n",
      "Youtube      6000\n",
      "Twitter      4747\n",
      "Instagram    3259\n",
      "Name: count, dtype: int64\n"
     ]
    }
   ],
   "source": [
    "# Contar el número de registros por fuente\n",
    "source_counts = data['source'].value_counts()\n",
    "print(\"Conteo de registros por fuente:\")\n",
    "print(source_counts)"
   ]
  },
  {
   "cell_type": "markdown",
   "id": "65c486e9",
   "metadata": {},
   "source": [
    "# Visualización Gráfica de los Datos por Fuente"
   ]
  },
  {
   "cell_type": "code",
   "execution_count": 6,
   "id": "1078df31",
   "metadata": {},
   "outputs": [
    {
     "data": {
      "image/png": "[encoded data removed]",
      "text/plain": [
       "<Figure size 800x600 with 1 Axes>"
      ]
     },
     "metadata": {},
     "output_type": "display_data"
    }
   ],
   "source": [
    "# Crear un gráfico de barras para visualizar los datos por fuente\n",
    "import matplotlib.pyplot as plt\n",
    "\n",
    "source_counts.plot(kind='bar', title='Registros por Fuente', xlabel='Fuente', ylabel='Cantidad', figsize=(8, 6))\n",
    "plt.show()"
   ]
  }
 ],
 "metadata": {
  "kernelspec": {
   "display_name": "Python 3",
   "language": "python",
   "name": "python3"
  },
  "language_info": {
   "codemirror_mode": {
    "name": "ipython",
    "version": 3
   },
   "file_extension": ".py",
   "mimetype": "text/x-python",
   "name": "python",
   "nbconvert_exporter": "python",
   "pygments_lexer": "ipython3",
   "version": "3.12.3"
  }
 },
 "nbformat": 4,
 "nbformat_minor": 5
}
